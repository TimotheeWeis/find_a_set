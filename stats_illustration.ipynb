{
 "cells": [
  {
   "cell_type": "code",
   "execution_count": 1,
   "metadata": {},
   "outputs": [],
   "source": [
    "import matplotlib.pyplot as plt\n",
    "\n",
    "from stats_tracker import StatsTracker"
   ]
  },
  {
   "cell_type": "code",
   "execution_count": 2,
   "metadata": {},
   "outputs": [],
   "source": [
    "stats_tracker = StatsTracker()\n",
    "stats_tracker.load_raw_stats()\n"
   ]
  },
  {
   "cell_type": "code",
   "execution_count": 3,
   "metadata": {},
   "outputs": [
    {
     "name": "stdout",
     "output_type": "stream",
     "text": [
      "+--------+---------+---------+---------+---------+---------+---------+--------+---------+---------+--------+---------+--------+---------+---------+---------+\n",
      "|   ssss |    sssd |    ssds |    ssdd |    sdss |    sdsd |    sdds |   sddd |    dsss |    dssd |   dsds |    dsdd |   ddss |    ddsd |    ddds |    dddd |\n",
      "+========+=========+=========+=========+=========+=========+=========+========+=========+=========+========+=========+========+=========+=========+=========+\n",
      "|    nan | 3.06957 | 2.57149 | 3.57963 | 2.67825 | 6.78509 | 3.91075 | 4.1979 | 3.38371 | 19.5193 | 9.7245 | 7.74507 | 3.7018 | 7.88535 | 18.4895 | 27.7343 |\n",
      "+--------+---------+---------+---------+---------+---------+---------+--------+---------+---------+--------+---------+--------+---------+---------+---------+\n"
     ]
    },
    {
     "name": "stderr",
     "output_type": "stream",
     "text": [
      "C:\\Users\\timot\\AppData\\Local\\Packages\\PythonSoftwareFoundation.Python.3.10_qbz5n2kfra8p0\\LocalCache\\local-packages\\Python310\\site-packages\\numpy\\core\\fromnumeric.py:3504: RuntimeWarning: Mean of empty slice.\n",
      "  return _methods._mean(a, axis=axis, dtype=dtype,\n",
      "C:\\Users\\timot\\AppData\\Local\\Packages\\PythonSoftwareFoundation.Python.3.10_qbz5n2kfra8p0\\LocalCache\\local-packages\\Python310\\site-packages\\numpy\\core\\_methods.py:129: RuntimeWarning: invalid value encountered in scalar divide\n",
      "  ret = ret.dtype.type(ret / rcount)\n"
     ]
    }
   ],
   "source": [
    "stats_tracker.print_all_means()"
   ]
  },
  {
   "cell_type": "code",
   "execution_count": 4,
   "metadata": {},
   "outputs": [
    {
     "name": "stdout",
     "output_type": "stream",
     "text": [
      " R1C1   R1C2   R1C3   R1C4   R1C5   R1C6   R1C7   R1C8   R1C9   R1C10  R1C11  R1C12  R1C13  R1C14  R1C15  R1C16 \n",
      " R2C1   R2C2   R2C3   R2C4   R2C5   R2C6   R2C7   R2C8   R2C9   R2C10  R2C11  R2C12  R2C13  R2C14  R2C15  R2C16 \n"
     ]
    }
   ],
   "source": [
    "# Exemple de données pour le tableau\n",
    "ligne1 = [f'R1C{i+1}' for i in range(16)]\n",
    "ligne2 = [f'R2C{i+1}' for i in range(16)]\n",
    "\n",
    "# Fonction pour afficher le tableau\n",
    "def afficher_tableau(ligne1, ligne2):\n",
    "    # Largeur de colonne (ajuster si nécessaire)\n",
    "    largeur_colonne = max(max(len(cell) for cell in ligne1), max(len(cell) for cell in ligne2)) + 2\n",
    "\n",
    "    # Créer le format de la ligne\n",
    "    format_ligne = ''.join(['{:^' + str(largeur_colonne) + '}' for _ in range(16)])\n",
    "\n",
    "    # Afficher les lignes\n",
    "    print(format_ligne.format(*ligne1))\n",
    "    print(format_ligne.format(*ligne2))\n",
    "\n",
    "# Afficher le tableau\n",
    "afficher_tableau(ligne1, ligne2)"
   ]
  },
  {
   "cell_type": "code",
   "execution_count": 5,
   "metadata": {},
   "outputs": [
    {
     "name": "stdout",
     "output_type": "stream",
     "text": [
      "['ssss', 'sssd', 'ssds', 'ssdd', 'sdss', 'sdsd', 'sdds', 'sddd', 'dsss', 'dssd', 'dsds', 'dsdd', 'ddss', 'ddsd', 'ddds']\n",
      "The fastest category is: ddds with a mean of: 18.48950755596161\n",
      "The slowest category is: ssss with a mean of: nan\n"
     ]
    }
   ],
   "source": [
    "stats_tracker.best_worse_category()"
   ]
  },
  {
   "cell_type": "code",
   "execution_count": null,
   "metadata": {},
   "outputs": [],
   "source": []
  }
 ],
 "metadata": {
  "kernelspec": {
   "display_name": "Python 3",
   "language": "python",
   "name": "python3"
  },
  "language_info": {
   "codemirror_mode": {
    "name": "ipython",
    "version": 3
   },
   "file_extension": ".py",
   "mimetype": "text/x-python",
   "name": "python",
   "nbconvert_exporter": "python",
   "pygments_lexer": "ipython3",
   "version": "3.10.11"
  }
 },
 "nbformat": 4,
 "nbformat_minor": 2
}
